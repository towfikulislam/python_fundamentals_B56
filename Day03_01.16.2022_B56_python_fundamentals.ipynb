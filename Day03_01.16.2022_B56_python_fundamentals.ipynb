{
 "cells": [
  {
   "cell_type": "code",
   "execution_count": null,
   "id": "7410b341",
   "metadata": {},
   "outputs": [],
   "source": [
    "Continuation wuth Strings:"
   ]
  },
  {
   "cell_type": "code",
   "execution_count": null,
   "id": "d6b96903",
   "metadata": {},
   "outputs": [],
   "source": [
    "Introduction to string methods:"
   ]
  },
  {
   "cell_type": "code",
   "execution_count": null,
   "id": "628066dd",
   "metadata": {},
   "outputs": [],
   "source": [
    "type ---> It will help us to validate the datatype."
   ]
  },
  {
   "cell_type": "code",
   "execution_count": null,
   "id": "0e3442de",
   "metadata": {},
   "outputs": [],
   "source": [
    "string --> str"
   ]
  },
  {
   "cell_type": "code",
   "execution_count": 3,
   "id": "b3963dbf",
   "metadata": {},
   "outputs": [
    {
     "name": "stdout",
     "output_type": "stream",
     "text": [
      "apple\n"
     ]
    }
   ],
   "source": [
    "fruit = \"apple\"\n",
    "print(fruit)"
   ]
  },
  {
   "cell_type": "code",
   "execution_count": 14,
   "id": "afc4a566",
   "metadata": {},
   "outputs": [
    {
     "data": {
      "text/plain": [
       "str"
      ]
     },
     "execution_count": 14,
     "metadata": {},
     "output_type": "execute_result"
    }
   ],
   "source": [
    "type(name) # Not able to validate as (shift+enter) wouldn't give me str as output. Please help."
   ]
  },
  {
   "cell_type": "code",
   "execution_count": null,
   "id": "061feb29",
   "metadata": {},
   "outputs": [],
   "source": []
  },
  {
   "cell_type": "code",
   "execution_count": 10,
   "id": "19a678ea",
   "metadata": {},
   "outputs": [
    {
     "name": "stdout",
     "output_type": "stream",
     "text": [
      "faiyaz uddin\n"
     ]
    }
   ],
   "source": [
    "full_name = \"faiyaz uddin\"\n",
    "\n",
    "print(full_name)"
   ]
  },
  {
   "cell_type": "code",
   "execution_count": 11,
   "id": "ce1303f4",
   "metadata": {},
   "outputs": [
    {
     "name": "stdout",
     "output_type": "stream",
     "text": [
      "Faiyaz Uddin\n"
     ]
    }
   ],
   "source": [
    "print(full_name.title()) # \"title\" method capitalize names, only first letter of each word."
   ]
  },
  {
   "cell_type": "code",
   "execution_count": null,
   "id": "7de5479b",
   "metadata": {},
   "outputs": [],
   "source": [
    "## Req: Need to print out names in upper/lower case or letters"
   ]
  },
  {
   "cell_type": "code",
   "execution_count": 12,
   "id": "c99f7a27",
   "metadata": {},
   "outputs": [
    {
     "name": "stdout",
     "output_type": "stream",
     "text": [
      "FAIYAZ UDDIN\n"
     ]
    }
   ],
   "source": [
    "print(full_name.upper()) # \"upper\" method print out a name in uppercase."
   ]
  },
  {
   "cell_type": "code",
   "execution_count": 13,
   "id": "551a8ebf",
   "metadata": {},
   "outputs": [
    {
     "name": "stdout",
     "output_type": "stream",
     "text": [
      "faiyaz uddin\n"
     ]
    }
   ],
   "source": [
    "print(full_name.lower()) # \"lower\" method print out a name in lowercase."
   ]
  },
  {
   "cell_type": "code",
   "execution_count": null,
   "id": "cd0967c4",
   "metadata": {},
   "outputs": [],
   "source": []
  },
  {
   "cell_type": "code",
   "execution_count": null,
   "id": "a8f4e99f",
   "metadata": {},
   "outputs": [],
   "source": [
    "Introduction to f strings:"
   ]
  },
  {
   "cell_type": "code",
   "execution_count": null,
   "id": "ecb38a77",
   "metadata": {},
   "outputs": [],
   "source": [
    "# General syntax of f strings:"
   ]
  },
  {
   "cell_type": "code",
   "execution_count": null,
   "id": "a2984bc0",
   "metadata": {},
   "outputs": [],
   "source": [
    "#f \"custom words , {placeholder...1} {placeholder...2}.....{placeholder...n}\""
   ]
  },
  {
   "cell_type": "code",
   "execution_count": null,
   "id": "996bf780",
   "metadata": {},
   "outputs": [],
   "source": [
    "# Req: Need to printout fullname"
   ]
  },
  {
   "cell_type": "code",
   "execution_count": 15,
   "id": "6d20e2b8",
   "metadata": {},
   "outputs": [],
   "source": [
    "firstname = 'faiyaz'\n",
    "lastname = 'uddin'"
   ]
  },
  {
   "cell_type": "code",
   "execution_count": 16,
   "id": "c8357be5",
   "metadata": {},
   "outputs": [
    {
     "name": "stdout",
     "output_type": "stream",
     "text": [
      "faiyaz uddin\n"
     ]
    }
   ],
   "source": [
    "full_name = f\"{firstname} {lastname}\"\n",
    "\n",
    "print(full_name)"
   ]
  },
  {
   "cell_type": "code",
   "execution_count": 21,
   "id": "017f509c",
   "metadata": {},
   "outputs": [
    {
     "name": "stdout",
     "output_type": "stream",
     "text": [
      "Faiyaz Uddin\n"
     ]
    }
   ],
   "source": [
    "print(full_name.title())"
   ]
  },
  {
   "cell_type": "code",
   "execution_count": 23,
   "id": "ed6a60bf",
   "metadata": {},
   "outputs": [
    {
     "name": "stdout",
     "output_type": "stream",
     "text": [
      "keep up the good work, Faiyaz Uddin\n"
     ]
    }
   ],
   "source": [
    "print(f\"keep up the good work, {full_name.title()}\")"
   ]
  },
  {
   "cell_type": "code",
   "execution_count": null,
   "id": "422e22e6",
   "metadata": {},
   "outputs": [],
   "source": []
  },
  {
   "cell_type": "code",
   "execution_count": null,
   "id": "860d788c",
   "metadata": {},
   "outputs": [],
   "source": [
    "Adding whitespaces to strings:"
   ]
  },
  {
   "cell_type": "code",
   "execution_count": 1,
   "id": "b0308a93",
   "metadata": {},
   "outputs": [
    {
     "name": "stdout",
     "output_type": "stream",
     "text": [
      "favourite_language:Pythonc++javascriptcobol\n"
     ]
    }
   ],
   "source": [
    "print(\"favourite_language:Pythonc++javascriptcobol\")\n"
   ]
  },
  {
   "cell_type": "code",
   "execution_count": 2,
   "id": "ec9feeae",
   "metadata": {},
   "outputs": [
    {
     "name": "stdout",
     "output_type": "stream",
     "text": [
      "favourite_language:\n",
      "python\n",
      "c++\n",
      "javascript\n",
      "cobol\n"
     ]
    }
   ],
   "source": [
    "print(\"favourite_language:\\npython\\nc++\\njavascript\\ncobol\") # \\n----> new line delimiter"
   ]
  },
  {
   "cell_type": "code",
   "execution_count": 3,
   "id": "aabf3895",
   "metadata": {},
   "outputs": [
    {
     "name": "stdout",
     "output_type": "stream",
     "text": [
      "favourite_language:\n",
      "\tpython\n",
      "\tc++\n",
      "\tjavascript\n",
      "\tcobol\n"
     ]
    }
   ],
   "source": [
    "print(\"favourite_language:\\n\\tpython\\n\\tc++\\n\\tjavascript\\n\\tcobol\") # \\t ---> it is called tab delimiter"
   ]
  },
  {
   "cell_type": "code",
   "execution_count": null,
   "id": "a75df553",
   "metadata": {},
   "outputs": [],
   "source": []
  },
  {
   "cell_type": "code",
   "execution_count": null,
   "id": "5ebf2132",
   "metadata": {},
   "outputs": [],
   "source": [
    "Removing whitespaces from strings:"
   ]
  },
  {
   "cell_type": "code",
   "execution_count": 4,
   "id": "39fe45fe",
   "metadata": {},
   "outputs": [
    {
     "name": "stdout",
     "output_type": "stream",
     "text": [
      "python\n"
     ]
    }
   ],
   "source": [
    "name = 'python'\n",
    "\n",
    "print(name)"
   ]
  },
  {
   "cell_type": "code",
   "execution_count": null,
   "id": "7747313f",
   "metadata": {},
   "outputs": [],
   "source": []
  },
  {
   "cell_type": "code",
   "execution_count": 5,
   "id": "fb7c59ad",
   "metadata": {},
   "outputs": [
    {
     "name": "stdout",
     "output_type": "stream",
     "text": [
      " python\n"
     ]
    }
   ],
   "source": [
    "name2 = ' python'\n",
    "\n",
    "print(name2)"
   ]
  },
  {
   "cell_type": "code",
   "execution_count": null,
   "id": "03a84c7d",
   "metadata": {},
   "outputs": [],
   "source": []
  },
  {
   "cell_type": "code",
   "execution_count": 9,
   "id": "f746f103",
   "metadata": {},
   "outputs": [
    {
     "name": "stdout",
     "output_type": "stream",
     "text": [
      "python. \n"
     ]
    }
   ],
   "source": [
    "name3 = 'python. ' # Additional space needed to be removed as it will take up space.\n",
    "\n",
    "print(name3)"
   ]
  },
  {
   "cell_type": "code",
   "execution_count": 7,
   "id": "2d0e0463",
   "metadata": {},
   "outputs": [
    {
     "data": {
      "text/plain": [
       "'python'"
      ]
     },
     "execution_count": 7,
     "metadata": {},
     "output_type": "execute_result"
    }
   ],
   "source": [
    "name2.strip()"
   ]
  },
  {
   "cell_type": "code",
   "execution_count": 10,
   "id": "c43d2b3b",
   "metadata": {},
   "outputs": [
    {
     "data": {
      "text/plain": [
       "'python.'"
      ]
     },
     "execution_count": 10,
     "metadata": {},
     "output_type": "execute_result"
    }
   ],
   "source": [
    "name3.strip()"
   ]
  },
  {
   "cell_type": "code",
   "execution_count": null,
   "id": "480b3cb6",
   "metadata": {},
   "outputs": [],
   "source": []
  }
 ],
 "metadata": {
  "kernelspec": {
   "display_name": "Python 3 (ipykernel)",
   "language": "python",
   "name": "python3"
  },
  "language_info": {
   "codemirror_mode": {
    "name": "ipython",
    "version": 3
   },
   "file_extension": ".py",
   "mimetype": "text/x-python",
   "name": "python",
   "nbconvert_exporter": "python",
   "pygments_lexer": "ipython3",
   "version": "3.9.7"
  }
 },
 "nbformat": 4,
 "nbformat_minor": 5
}
