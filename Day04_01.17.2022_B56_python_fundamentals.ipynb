{
 "cells": [
  {
   "cell_type": "code",
   "execution_count": null,
   "id": "a2a71c48",
   "metadata": {},
   "outputs": [],
   "source": [
    "Introduction to list data type:"
   ]
  },
  {
   "cell_type": "code",
   "execution_count": null,
   "id": "d13a8418",
   "metadata": {},
   "outputs": [],
   "source": [
    "def: A list is a collection of items defined is a particular order.\n",
    "    \n",
    "Classification: It is classified as a mutable(can edit/alter) data type\n",
    "    "
   ]
  },
  {
   "cell_type": "code",
   "execution_count": null,
   "id": "2ae8fa33",
   "metadata": {},
   "outputs": [],
   "source": [
    "How to declare/define the list --> []"
   ]
  },
  {
   "cell_type": "code",
   "execution_count": null,
   "id": "cba4dc27",
   "metadata": {},
   "outputs": [],
   "source": []
  },
  {
   "cell_type": "code",
   "execution_count": 14,
   "id": "0fc8b9b1",
   "metadata": {},
   "outputs": [],
   "source": [
    "students = ['faiyaz','nihar','kumar','abdul','kiran']"
   ]
  },
  {
   "cell_type": "code",
   "execution_count": 15,
   "id": "ab5cddbd",
   "metadata": {},
   "outputs": [
    {
     "name": "stdout",
     "output_type": "stream",
     "text": [
      "['faiyaz', 'nihar', 'kumar', 'abdul', 'kiran']\n"
     ]
    }
   ],
   "source": [
    "print(students)"
   ]
  },
  {
   "cell_type": "code",
   "execution_count": null,
   "id": "f4f010ef",
   "metadata": {},
   "outputs": [],
   "source": []
  },
  {
   "cell_type": "code",
   "execution_count": null,
   "id": "e19bbfe6",
   "metadata": {},
   "outputs": [],
   "source": [
    "#How to verify datatype"
   ]
  },
  {
   "cell_type": "code",
   "execution_count": 16,
   "id": "d7776f23",
   "metadata": {},
   "outputs": [
    {
     "data": {
      "text/plain": [
       "list"
      ]
     },
     "execution_count": 16,
     "metadata": {},
     "output_type": "execute_result"
    }
   ],
   "source": [
    "type(students)"
   ]
  },
  {
   "cell_type": "code",
   "execution_count": null,
   "id": "71b0a051",
   "metadata": {},
   "outputs": [],
   "source": []
  },
  {
   "cell_type": "code",
   "execution_count": null,
   "id": "3a4e9180",
   "metadata": {},
   "outputs": [],
   "source": [
    "Introduction to indexing: It starts from 0,1,2,3.....n"
   ]
  },
  {
   "cell_type": "code",
   "execution_count": null,
   "id": "c6d566a3",
   "metadata": {},
   "outputs": [],
   "source": []
  },
  {
   "cell_type": "code",
   "execution_count": null,
   "id": "7546ee01",
   "metadata": {},
   "outputs": [],
   "source": [
    "# How to access the elements from the list?"
   ]
  },
  {
   "cell_type": "code",
   "execution_count": null,
   "id": "617da8c9",
   "metadata": {},
   "outputs": [],
   "source": [
    "Req: From bottom whats the index number of 'kumar'?\n",
    "    'faiyaz','nihar','kumar','abdul','kiran'\n",
    "    Ans: 2 because indexing start from 0, not 1\n",
    "    "
   ]
  },
  {
   "cell_type": "code",
   "execution_count": 17,
   "id": "407b71b8",
   "metadata": {},
   "outputs": [
    {
     "name": "stdout",
     "output_type": "stream",
     "text": [
      "kumar\n"
     ]
    }
   ],
   "source": [
    "print(students[2])"
   ]
  },
  {
   "cell_type": "code",
   "execution_count": 18,
   "id": "3b68fa46",
   "metadata": {},
   "outputs": [
    {
     "name": "stdout",
     "output_type": "stream",
     "text": [
      "Kumar\n"
     ]
    }
   ],
   "source": [
    "print(students[2].title())"
   ]
  },
  {
   "cell_type": "code",
   "execution_count": null,
   "id": "cddcdb38",
   "metadata": {},
   "outputs": [],
   "source": [
    "# how to printout'Faiyaz' from the list?"
   ]
  },
  {
   "cell_type": "code",
   "execution_count": 19,
   "id": "7d540466",
   "metadata": {},
   "outputs": [
    {
     "name": "stdout",
     "output_type": "stream",
     "text": [
      "Faiyaz\n"
     ]
    }
   ],
   "source": [
    "print(students[0].title())"
   ]
  },
  {
   "cell_type": "code",
   "execution_count": null,
   "id": "7f34ab01",
   "metadata": {},
   "outputs": [],
   "source": []
  },
  {
   "cell_type": "code",
   "execution_count": null,
   "id": "64f669ff",
   "metadata": {},
   "outputs": [],
   "source": [
    "1. How to add new elements to the list? \n",
    "2. How to modify the elements in the list?\n",
    "3. How to delete the elements in the list?"
   ]
  },
  {
   "cell_type": "code",
   "execution_count": null,
   "id": "6fb77a9d",
   "metadata": {},
   "outputs": [],
   "source": [
    "Ex 1: How to add sradda to the list?"
   ]
  },
  {
   "cell_type": "code",
   "execution_count": 23,
   "id": "62a58d45",
   "metadata": {},
   "outputs": [],
   "source": [
    "students.append('sradda') # 'Append is used to add a element to a existing list and its added to the last in the list'"
   ]
  },
  {
   "cell_type": "code",
   "execution_count": 24,
   "id": "8d49e044",
   "metadata": {},
   "outputs": [
    {
     "name": "stdout",
     "output_type": "stream",
     "text": [
      "['faiyaz', 'nihar', 'kumar', 'abdul', 'kiran', 'sradda']\n"
     ]
    }
   ],
   "source": [
    "print(students)"
   ]
  },
  {
   "cell_type": "code",
   "execution_count": null,
   "id": "1d9d39bd",
   "metadata": {},
   "outputs": [],
   "source": [
    "# How to add 'hamed' to the 2nd position in the list"
   ]
  },
  {
   "cell_type": "code",
   "execution_count": 25,
   "id": "3bf3b820",
   "metadata": {},
   "outputs": [],
   "source": [
    "students.insert(2,'hamed')"
   ]
  },
  {
   "cell_type": "code",
   "execution_count": 26,
   "id": "2d706220",
   "metadata": {},
   "outputs": [
    {
     "name": "stdout",
     "output_type": "stream",
     "text": [
      "['faiyaz', 'nihar', 'hamed', 'kumar', 'abdul', 'kiran', 'sradda']\n"
     ]
    }
   ],
   "source": [
    "print(students)"
   ]
  },
  {
   "cell_type": "code",
   "execution_count": null,
   "id": "c362cced",
   "metadata": {},
   "outputs": [],
   "source": [
    "Intv. Question: What is the diff. between append and insert method in a list?"
   ]
  },
  {
   "cell_type": "code",
   "execution_count": null,
   "id": "78d08da2",
   "metadata": {},
   "outputs": [],
   "source": []
  },
  {
   "cell_type": "code",
   "execution_count": null,
   "id": "74b81dca",
   "metadata": {},
   "outputs": [],
   "source": [
    "Ex 2: How to modify nihar to uddin"
   ]
  },
  {
   "cell_type": "code",
   "execution_count": 27,
   "id": "a65b6ee5",
   "metadata": {},
   "outputs": [],
   "source": [
    "students[1] ='uddin'"
   ]
  },
  {
   "cell_type": "code",
   "execution_count": 31,
   "id": "f2231b8a",
   "metadata": {},
   "outputs": [
    {
     "name": "stdout",
     "output_type": "stream",
     "text": [
      "['faiyaz', 'uddin', 'hamed', 'kumar', 'abdul', 'kiran', 'sradda']\n"
     ]
    }
   ],
   "source": [
    "print(students)"
   ]
  },
  {
   "cell_type": "code",
   "execution_count": 32,
   "id": "00d8b983",
   "metadata": {},
   "outputs": [
    {
     "name": "stdout",
     "output_type": "stream",
     "text": [
      "uddin\n"
     ]
    }
   ],
   "source": [
    "print(students[1])"
   ]
  },
  {
   "cell_type": "code",
   "execution_count": null,
   "id": "f55caa2b",
   "metadata": {},
   "outputs": [],
   "source": []
  },
  {
   "cell_type": "code",
   "execution_count": null,
   "id": "a426fc6c",
   "metadata": {},
   "outputs": [],
   "source": [
    "Ex 3: How to delete"
   ]
  },
  {
   "cell_type": "code",
   "execution_count": 34,
   "id": "e4a6db69",
   "metadata": {},
   "outputs": [
    {
     "name": "stdout",
     "output_type": "stream",
     "text": [
      "['faiyaz', 'uddin', 'hamed', 'kumar', 'abdul', 'kiran', 'sradda']\n"
     ]
    }
   ],
   "source": [
    "print(students)"
   ]
  },
  {
   "cell_type": "code",
   "execution_count": 35,
   "id": "20a7ffb9",
   "metadata": {},
   "outputs": [
    {
     "name": "stdout",
     "output_type": "stream",
     "text": [
      "hamed\n"
     ]
    }
   ],
   "source": [
    "print(students[2])"
   ]
  },
  {
   "cell_type": "code",
   "execution_count": 38,
   "id": "7381039d",
   "metadata": {},
   "outputs": [],
   "source": [
    "del (students[2])"
   ]
  },
  {
   "cell_type": "code",
   "execution_count": 39,
   "id": "0629f994",
   "metadata": {},
   "outputs": [
    {
     "name": "stdout",
     "output_type": "stream",
     "text": [
      "['faiyaz', 'uddin', 'kumar', 'abdul', 'kiran', 'sradda']\n"
     ]
    }
   ],
   "source": [
    "print(students)"
   ]
  },
  {
   "cell_type": "code",
   "execution_count": 40,
   "id": "1aea43b9",
   "metadata": {},
   "outputs": [
    {
     "name": "stdout",
     "output_type": "stream",
     "text": [
      "kumar\n"
     ]
    }
   ],
   "source": [
    "print(students[2]) # Hamed is deleted using del method, therefore kumar is coming up in a second positon now"
   ]
  },
  {
   "cell_type": "code",
   "execution_count": null,
   "id": "e8f46f42",
   "metadata": {},
   "outputs": [],
   "source": []
  },
  {
   "cell_type": "code",
   "execution_count": null,
   "id": "52f8d03f",
   "metadata": {},
   "outputs": [],
   "source": []
  }
 ],
 "metadata": {
  "kernelspec": {
   "display_name": "Python 3 (ipykernel)",
   "language": "python",
   "name": "python3"
  },
  "language_info": {
   "codemirror_mode": {
    "name": "ipython",
    "version": 3
   },
   "file_extension": ".py",
   "mimetype": "text/x-python",
   "name": "python",
   "nbconvert_exporter": "python",
   "pygments_lexer": "ipython3",
   "version": "3.9.7"
  }
 },
 "nbformat": 4,
 "nbformat_minor": 5
}
