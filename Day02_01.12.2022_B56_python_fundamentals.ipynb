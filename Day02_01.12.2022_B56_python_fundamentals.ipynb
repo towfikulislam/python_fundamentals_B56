{
 "cells": [
  {
   "cell_type": "code",
   "execution_count": 4,
   "id": "6ee88c21",
   "metadata": {},
   "outputs": [
    {
     "ename": "SyntaxError",
     "evalue": "invalid syntax (357231412.py, line 3)",
     "output_type": "error",
     "traceback": [
      "\u001b[0;36m  File \u001b[0;32m\"/var/folders/8m/bnf3yk6s5_d3cvgjwg15yp4r0000gp/T/ipykernel_4653/357231412.py\"\u001b[0;36m, line \u001b[0;32m3\u001b[0m\n\u001b[0;31m    1. No name spaces while declaring the variabes name:\u001b[0m\n\u001b[0m       ^\u001b[0m\n\u001b[0;31mSyntaxError\u001b[0m\u001b[0;31m:\u001b[0m invalid syntax\n"
     ]
    }
   ],
   "source": [
    "# Understanding variables in Python\n",
    "# Rules for declaring varibales in Python:\n",
    "1. No name spaces while declaring the variabes name:\n",
    "\n",
    "Ex:"
   ]
  },
  {
   "cell_type": "code",
   "execution_count": null,
   "id": "3e32f30d",
   "metadata": {},
   "outputs": [],
   "source": []
  },
  {
   "cell_type": "code",
   "execution_count": 2,
   "id": "962bebb5",
   "metadata": {},
   "outputs": [],
   "source": [
    "x = 3\n",
    "\n",
    "y = 2"
   ]
  },
  {
   "cell_type": "code",
   "execution_count": 3,
   "id": "38128c49",
   "metadata": {},
   "outputs": [
    {
     "data": {
      "text/plain": [
       "5"
      ]
     },
     "execution_count": 3,
     "metadata": {},
     "output_type": "execute_result"
    }
   ],
   "source": [
    "x+y"
   ]
  },
  {
   "cell_type": "code",
   "execution_count": null,
   "id": "88bf9a71",
   "metadata": {},
   "outputs": [],
   "source": []
  },
  {
   "cell_type": "code",
   "execution_count": 5,
   "id": "68e9eee0",
   "metadata": {},
   "outputs": [
    {
     "ename": "SyntaxError",
     "evalue": "invalid syntax (357231412.py, line 3)",
     "output_type": "error",
     "traceback": [
      "\u001b[0;36m  File \u001b[0;32m\"/var/folders/8m/bnf3yk6s5_d3cvgjwg15yp4r0000gp/T/ipykernel_4653/357231412.py\"\u001b[0;36m, line \u001b[0;32m3\u001b[0m\n\u001b[0;31m    1. No name spaces while declaring the variabes name:\u001b[0m\n\u001b[0m       ^\u001b[0m\n\u001b[0;31mSyntaxError\u001b[0m\u001b[0;31m:\u001b[0m invalid syntax\n"
     ]
    }
   ],
   "source": [
    "# Understanding variables in Python\n",
    "# Rules for declaring varibales in Python:\n",
    "Rule 01. No name spaces while declaring the variabes name:\n",
    "\n",
    "Ex:"
   ]
  },
  {
   "cell_type": "code",
   "execution_count": 6,
   "id": "b00b279c",
   "metadata": {},
   "outputs": [
    {
     "ename": "SyntaxError",
     "evalue": "invalid syntax (3899987148.py, line 1)",
     "output_type": "error",
     "traceback": [
      "\u001b[0;36m  File \u001b[0;32m\"/var/folders/8m/bnf3yk6s5_d3cvgjwg15yp4r0000gp/T/ipykernel_4653/3899987148.py\"\u001b[0;36m, line \u001b[0;32m1\u001b[0m\n\u001b[0;31m    first name = 'Towfik'\u001b[0m\n\u001b[0m          ^\u001b[0m\n\u001b[0;31mSyntaxError\u001b[0m\u001b[0;31m:\u001b[0m invalid syntax\n"
     ]
    }
   ],
   "source": [
    "first name = 'Towfik' # Here space has given to the name therefore it will throw error. \n",
    "\n",
    "print (first name)"
   ]
  },
  {
   "cell_type": "code",
   "execution_count": 7,
   "id": "76674eb9",
   "metadata": {},
   "outputs": [
    {
     "name": "stdout",
     "output_type": "stream",
     "text": [
      "Towfik\n"
     ]
    }
   ],
   "source": [
    "firstname = 'Towfik' # No space has given therefore printed the name. Also, '_' is acceptable in when declaring a variable.\n",
    "\n",
    "print(firstname)"
   ]
  },
  {
   "cell_type": "code",
   "execution_count": 8,
   "id": "e9eafd3f",
   "metadata": {},
   "outputs": [],
   "source": [
    "#Rule 02: A variable name shouldn't start with a number but it can have number at the end or anywhere in between.\n",
    "#Ex:"
   ]
  },
  {
   "cell_type": "code",
   "execution_count": 9,
   "id": "6ffbcb72",
   "metadata": {},
   "outputs": [
    {
     "ename": "SyntaxError",
     "evalue": "invalid syntax (3467051815.py, line 1)",
     "output_type": "error",
     "traceback": [
      "\u001b[0;36m  File \u001b[0;32m\"/var/folders/8m/bnf3yk6s5_d3cvgjwg15yp4r0000gp/T/ipykernel_4653/3467051815.py\"\u001b[0;36m, line \u001b[0;32m1\u001b[0m\n\u001b[0;31m    1name = 'Towfik'\u001b[0m\n\u001b[0m     ^\u001b[0m\n\u001b[0;31mSyntaxError\u001b[0m\u001b[0;31m:\u001b[0m invalid syntax\n"
     ]
    }
   ],
   "source": [
    "1name = 'Towfik' # Invalid as there shouldn't be any number in the beginning of a variable\n",
    "\n",
    "print(1name)"
   ]
  },
  {
   "cell_type": "code",
   "execution_count": 10,
   "id": "2372526b",
   "metadata": {},
   "outputs": [
    {
     "name": "stdout",
     "output_type": "stream",
     "text": [
      "towfik\n"
     ]
    }
   ],
   "source": [
    "name1 = 'towfik'# not invalid variable because it can have number at the end or anywhere in between.\n",
    "\n",
    "print(name1)"
   ]
  },
  {
   "cell_type": "code",
   "execution_count": 11,
   "id": "a735a5e4",
   "metadata": {},
   "outputs": [],
   "source": [
    "#Rule 03: A variable name should not have any special characters in it except '_'.\n",
    "#Ex:"
   ]
  },
  {
   "cell_type": "code",
   "execution_count": 12,
   "id": "7ac5cb9d",
   "metadata": {},
   "outputs": [
    {
     "ename": "SyntaxError",
     "evalue": "invalid syntax (1619672156.py, line 1)",
     "output_type": "error",
     "traceback": [
      "\u001b[0;36m  File \u001b[0;32m\"/var/folders/8m/bnf3yk6s5_d3cvgjwg15yp4r0000gp/T/ipykernel_4653/1619672156.py\"\u001b[0;36m, line \u001b[0;32m1\u001b[0m\n\u001b[0;31m    name1@ = 'towfik'\u001b[0m\n\u001b[0m           ^\u001b[0m\n\u001b[0;31mSyntaxError\u001b[0m\u001b[0;31m:\u001b[0m invalid syntax\n"
     ]
    }
   ],
   "source": [
    "name1@ = 'towfik'\n",
    "\n",
    "print(name1@)"
   ]
  },
  {
   "cell_type": "code",
   "execution_count": 13,
   "id": "b709f37a",
   "metadata": {},
   "outputs": [],
   "source": [
    "# Note: '#' is used for commenting the lines in python"
   ]
  },
  {
   "cell_type": "code",
   "execution_count": null,
   "id": "f038adff",
   "metadata": {},
   "outputs": [],
   "source": []
  },
  {
   "cell_type": "code",
   "execution_count": null,
   "id": "231dd951",
   "metadata": {},
   "outputs": [],
   "source": [
    "Introduction to Datatypes in python"
   ]
  },
  {
   "cell_type": "code",
   "execution_count": null,
   "id": "caa3625d",
   "metadata": {},
   "outputs": [],
   "source": [
    "1. string\n",
    "2. number --> integer and floats(decimals)\n",
    "3. List\n",
    "4. tuple \n",
    "5. dictionaries"
   ]
  },
  {
   "cell_type": "code",
   "execution_count": null,
   "id": "df188171",
   "metadata": {},
   "outputs": [],
   "source": [
    "Classifictions of datatypes: There are 2 different categories.\n",
    "    1. Mutable datatype: It is flexible which we can alter and edit.\n",
    "    2  Immutable datatype: It is not flexible, but fixed."
   ]
  },
  {
   "cell_type": "code",
   "execution_count": null,
   "id": "e4a13b01",
   "metadata": {},
   "outputs": [],
   "source": [
    "Introduction to String datatype"
   ]
  },
  {
   "cell_type": "code",
   "execution_count": null,
   "id": "4405f523",
   "metadata": {},
   "outputs": [],
   "source": [
    "Def: A string is a series of a characters declared in quotes.\n",
    "Classification: It is classified as immutable datatypes\n",
    "How to declare the string datatype: There are 3 approches\n",
    "    1. single quote\n",
    "    2. double quote\n",
    "    3. triple quote\n",
    "    "
   ]
  },
  {
   "cell_type": "code",
   "execution_count": 17,
   "id": "7cbf815d",
   "metadata": {},
   "outputs": [
    {
     "name": "stdout",
     "output_type": "stream",
     "text": [
      "faiyaz\n"
     ]
    }
   ],
   "source": [
    "nameX = 'faiyaz' #single quote\n",
    "\n",
    "print (nameX)"
   ]
  },
  {
   "cell_type": "code",
   "execution_count": 18,
   "id": "a7d43e54",
   "metadata": {},
   "outputs": [
    {
     "name": "stdout",
     "output_type": "stream",
     "text": [
      "nandini\n"
     ]
    }
   ],
   "source": [
    "name2 = \"nandini\" # double quote\n",
    "\n",
    "print(name2)"
   ]
  },
  {
   "cell_type": "code",
   "execution_count": 19,
   "id": "7b58f044",
   "metadata": {},
   "outputs": [
    {
     "name": "stdout",
     "output_type": "stream",
     "text": [
      "towfik\n"
     ]
    }
   ],
   "source": [
    "name_1 = \"\"\"towfik\"\"\" # tripple quote\n",
    "\n",
    "print(name_1)"
   ]
  },
  {
   "cell_type": "code",
   "execution_count": null,
   "id": "66ff3f51",
   "metadata": {},
   "outputs": [],
   "source": []
  },
  {
   "cell_type": "code",
   "execution_count": null,
   "id": "89a99e9e",
   "metadata": {},
   "outputs": [],
   "source": []
  }
 ],
 "metadata": {
  "kernelspec": {
   "display_name": "Python 3 (ipykernel)",
   "language": "python",
   "name": "python3"
  },
  "language_info": {
   "codemirror_mode": {
    "name": "ipython",
    "version": 3
   },
   "file_extension": ".py",
   "mimetype": "text/x-python",
   "name": "python",
   "nbconvert_exporter": "python",
   "pygments_lexer": "ipython3",
   "version": "3.9.7"
  }
 },
 "nbformat": 4,
 "nbformat_minor": 5
}
