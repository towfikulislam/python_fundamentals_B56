{
 "cells": [
  {
   "cell_type": "code",
   "execution_count": null,
   "id": "e3246e21",
   "metadata": {},
   "outputs": [],
   "source": [
    "Continuation with List Datatype:"
   ]
  },
  {
   "cell_type": "code",
   "execution_count": null,
   "id": "971e5a00",
   "metadata": {},
   "outputs": [],
   "source": [
    "Organizing the list datatype:"
   ]
  },
  {
   "cell_type": "code",
   "execution_count": null,
   "id": "2408cea1",
   "metadata": {},
   "outputs": [],
   "source": []
  },
  {
   "cell_type": "code",
   "execution_count": 15,
   "id": "36d45992",
   "metadata": {},
   "outputs": [],
   "source": [
    "cars = ['benz','audi','bmw','tesla','ciaz','toyota']"
   ]
  },
  {
   "cell_type": "code",
   "execution_count": 16,
   "id": "9d3729cf",
   "metadata": {},
   "outputs": [
    {
     "name": "stdout",
     "output_type": "stream",
     "text": [
      "['benz', 'audi', 'bmw', 'tesla', 'ciaz', 'toyota']\n"
     ]
    }
   ],
   "source": [
    "print(cars)"
   ]
  },
  {
   "cell_type": "code",
   "execution_count": 17,
   "id": "e01d00ce",
   "metadata": {},
   "outputs": [
    {
     "data": {
      "text/plain": [
       "list"
      ]
     },
     "execution_count": 17,
     "metadata": {},
     "output_type": "execute_result"
    }
   ],
   "source": [
    "type(cars)"
   ]
  },
  {
   "cell_type": "code",
   "execution_count": null,
   "id": "c6c96a7a",
   "metadata": {},
   "outputs": [],
   "source": [
    "#Req: How to printout the above car list in alphabetical order?"
   ]
  },
  {
   "cell_type": "code",
   "execution_count": null,
   "id": "4a180b10",
   "metadata": {},
   "outputs": [],
   "source": [
    "There are two approaches:\n",
    "    temp approach --> sorted ==> We can get the original order\n",
    "    permanent approach --> sort. ==> changes are applied permanently"
   ]
  },
  {
   "cell_type": "code",
   "execution_count": 18,
   "id": "b03b4f29",
   "metadata": {},
   "outputs": [
    {
     "name": "stdout",
     "output_type": "stream",
     "text": [
      "['audi', 'benz', 'bmw', 'ciaz', 'tesla', 'toyota']\n"
     ]
    }
   ],
   "source": [
    "print(sorted(cars)) # 'sorted' is used here to print out alphabatetical order."
   ]
  },
  {
   "cell_type": "code",
   "execution_count": 19,
   "id": "f82d2778",
   "metadata": {},
   "outputs": [
    {
     "name": "stdout",
     "output_type": "stream",
     "text": [
      "['benz', 'audi', 'bmw', 'tesla', 'ciaz', 'toyota']\n"
     ]
    }
   ],
   "source": [
    "print(cars) # original order is printed as 'sorted' is not used here"
   ]
  },
  {
   "cell_type": "code",
   "execution_count": 20,
   "id": "64de8366",
   "metadata": {},
   "outputs": [],
   "source": [
    "cars.sort() # 'sort' is used for permanent change"
   ]
  },
  {
   "cell_type": "code",
   "execution_count": 21,
   "id": "12c34cc8",
   "metadata": {},
   "outputs": [
    {
     "name": "stdout",
     "output_type": "stream",
     "text": [
      "['audi', 'benz', 'bmw', 'ciaz', 'tesla', 'toyota']\n"
     ]
    }
   ],
   "source": [
    "print(cars) # once 'sort' is used to printout, the changes are permanent, not possible to change order."
   ]
  },
  {
   "cell_type": "code",
   "execution_count": null,
   "id": "d686dbb9",
   "metadata": {},
   "outputs": [],
   "source": [
    "INT QUESTIONS: What's the diff. between sorted and sort method in a List Datatype."
   ]
  },
  {
   "cell_type": "code",
   "execution_count": null,
   "id": "a49f2161",
   "metadata": {},
   "outputs": [],
   "source": []
  },
  {
   "cell_type": "code",
   "execution_count": null,
   "id": "0535d4f8",
   "metadata": {},
   "outputs": [],
   "source": [
    "REQ: How to printout data in the reverse order?"
   ]
  },
  {
   "cell_type": "code",
   "execution_count": 22,
   "id": "8f0b24e2",
   "metadata": {},
   "outputs": [
    {
     "name": "stdout",
     "output_type": "stream",
     "text": [
      "['audi', 'benz', 'bmw', 'ciaz', 'tesla', 'toyota']\n"
     ]
    }
   ],
   "source": [
    "print(cars)"
   ]
  },
  {
   "cell_type": "code",
   "execution_count": 23,
   "id": "c907dd7c",
   "metadata": {},
   "outputs": [],
   "source": [
    "cars.reverse() # to printout in the reverse order"
   ]
  },
  {
   "cell_type": "code",
   "execution_count": 24,
   "id": "ae0f7e86",
   "metadata": {},
   "outputs": [
    {
     "name": "stdout",
     "output_type": "stream",
     "text": [
      "['toyota', 'tesla', 'ciaz', 'bmw', 'benz', 'audi']\n"
     ]
    }
   ],
   "source": [
    "print(cars)"
   ]
  },
  {
   "cell_type": "code",
   "execution_count": null,
   "id": "a48b9243",
   "metadata": {},
   "outputs": [],
   "source": []
  },
  {
   "cell_type": "code",
   "execution_count": null,
   "id": "d6a647b2",
   "metadata": {},
   "outputs": [],
   "source": [
    "REQ: How to printout no. of elements or count of elements in the list?"
   ]
  },
  {
   "cell_type": "code",
   "execution_count": 25,
   "id": "c7f8a063",
   "metadata": {},
   "outputs": [
    {
     "data": {
      "text/plain": [
       "6"
      ]
     },
     "execution_count": 25,
     "metadata": {},
     "output_type": "execute_result"
    }
   ],
   "source": [
    "len(cars)"
   ]
  },
  {
   "cell_type": "code",
   "execution_count": null,
   "id": "e0a5f901",
   "metadata": {},
   "outputs": [],
   "source": []
  },
  {
   "cell_type": "code",
   "execution_count": null,
   "id": "0114532d",
   "metadata": {},
   "outputs": [],
   "source": [
    "## INTRODUCTION TO SLICING OF LISTS"
   ]
  },
  {
   "cell_type": "code",
   "execution_count": 30,
   "id": "5b46c848",
   "metadata": {},
   "outputs": [],
   "source": [
    "students = ['sim','fayiaz','anika','bilal','chatni','chadni']"
   ]
  },
  {
   "cell_type": "code",
   "execution_count": 31,
   "id": "64b8f486",
   "metadata": {},
   "outputs": [
    {
     "name": "stdout",
     "output_type": "stream",
     "text": [
      "['sim', 'fayiaz', 'anika', 'bilal', 'chatni', 'chadni']\n"
     ]
    }
   ],
   "source": [
    "print(students)"
   ]
  },
  {
   "cell_type": "code",
   "execution_count": null,
   "id": "eefbc29f",
   "metadata": {},
   "outputs": [],
   "source": [
    "#General syntax of slicing:"
   ]
  },
  {
   "cell_type": "code",
   "execution_count": null,
   "id": "4617f650",
   "metadata": {},
   "outputs": [],
   "source": [
    "[startvalue:stopvalue:stepcount]"
   ]
  },
  {
   "cell_type": "code",
   "execution_count": null,
   "id": "df712b8a",
   "metadata": {},
   "outputs": [],
   "source": [
    "Note: 1. Stopvalue is always exclusive and will not be considered in the slice"
   ]
  },
  {
   "cell_type": "code",
   "execution_count": null,
   "id": "56045bc6",
   "metadata": {},
   "outputs": [],
   "source": [
    "2. To conclude the stopvalue, increment the index by ''+1'"
   ]
  },
  {
   "cell_type": "code",
   "execution_count": null,
   "id": "9396048e",
   "metadata": {},
   "outputs": [],
   "source": [
    "#REQ: How to printout sim and faiyaz in the slice"
   ]
  },
  {
   "cell_type": "code",
   "execution_count": 32,
   "id": "ed1d7758",
   "metadata": {},
   "outputs": [
    {
     "name": "stdout",
     "output_type": "stream",
     "text": [
      "['sim']\n"
     ]
    }
   ],
   "source": [
    "print(students[0:1]) # only to printout firstname"
   ]
  },
  {
   "cell_type": "code",
   "execution_count": 33,
   "id": "82ad0755",
   "metadata": {},
   "outputs": [
    {
     "name": "stdout",
     "output_type": "stream",
     "text": [
      "['sim', 'fayiaz']\n"
     ]
    }
   ],
   "source": [
    "print(students[0:2]) # to printout both names in the first slice"
   ]
  },
  {
   "cell_type": "code",
   "execution_count": 34,
   "id": "8b3c9792",
   "metadata": {},
   "outputs": [
    {
     "name": "stdout",
     "output_type": "stream",
     "text": [
      "['anika', 'bilal']\n"
     ]
    }
   ],
   "source": [
    "print(students[2:4]) # to print out anika and bilal"
   ]
  },
  {
   "cell_type": "code",
   "execution_count": 35,
   "id": "79846d70",
   "metadata": {},
   "outputs": [
    {
     "name": "stdout",
     "output_type": "stream",
     "text": [
      "['chatni', 'chadni']\n"
     ]
    }
   ],
   "source": [
    "print(students[4:6])"
   ]
  },
  {
   "cell_type": "code",
   "execution_count": 36,
   "id": "a5b3e6e6",
   "metadata": {},
   "outputs": [
    {
     "name": "stdout",
     "output_type": "stream",
     "text": [
      "['sim', 'fayiaz', 'anika', 'bilal', 'chatni', 'chadni']\n"
     ]
    }
   ],
   "source": [
    "print(students)"
   ]
  },
  {
   "cell_type": "code",
   "execution_count": 39,
   "id": "affb350e",
   "metadata": {},
   "outputs": [
    {
     "name": "stdout",
     "output_type": "stream",
     "text": [
      "['sim', 'anika', 'chatni']\n"
     ]
    }
   ],
   "source": [
    "print(students[0:6:2]) # This is for stepcount but i didn't quite get it. Would you please explain again some other time."
   ]
  },
  {
   "cell_type": "code",
   "execution_count": null,
   "id": "17011a2d",
   "metadata": {},
   "outputs": [],
   "source": []
  }
 ],
 "metadata": {
  "kernelspec": {
   "display_name": "Python 3 (ipykernel)",
   "language": "python",
   "name": "python3"
  },
  "language_info": {
   "codemirror_mode": {
    "name": "ipython",
    "version": 3
   },
   "file_extension": ".py",
   "mimetype": "text/x-python",
   "name": "python",
   "nbconvert_exporter": "python",
   "pygments_lexer": "ipython3",
   "version": "3.9.7"
  }
 },
 "nbformat": 4,
 "nbformat_minor": 5
}
